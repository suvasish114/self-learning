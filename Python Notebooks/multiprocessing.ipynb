{
  "nbformat": 4,
  "nbformat_minor": 0,
  "metadata": {
    "colab": {
      "provenance": []
    },
    "kernelspec": {
      "name": "python3",
      "display_name": "Python 3"
    },
    "language_info": {
      "name": "python"
    }
  },
  "cells": [
    {
      "cell_type": "code",
      "source": [
        "import time"
      ],
      "metadata": {
        "id": "KzwPcPQff1A0"
      },
      "execution_count": 2,
      "outputs": []
    },
    {
      "cell_type": "markdown",
      "source": [
        "# Multithreading"
      ],
      "metadata": {
        "id": "TSvc4V_UfVYi"
      }
    },
    {
      "cell_type": "code",
      "execution_count": 16,
      "metadata": {
        "id": "TbK9Ax7EfN3q"
      },
      "outputs": [],
      "source": [
        "def f1(nums, res):\n",
        "    for num in nums:\n",
        "        res.append(num**2)\n",
        "\n",
        "def f2(nums, res):\n",
        "    for num in nums:\n",
        "        res.append(num**3)"
      ]
    },
    {
      "cell_type": "code",
      "source": [
        "# USING SIMPLE ITERATION\n",
        "array = [1,2,3,4,5]\n",
        "res1, res2 = list(), list() # gloabal variables\n",
        "\n",
        "# init time\n",
        "t = time.time()\n",
        "\n",
        "# function call\n",
        "f1(array, res1)\n",
        "f2(array, res2)\n",
        "\n",
        "# result\n",
        "print(res1)\n",
        "print(res2)\n",
        "\n",
        "# time taken\n",
        "print(time.time()-t)"
      ],
      "metadata": {
        "colab": {
          "base_uri": "https://localhost:8080/",
          "height": 0
        },
        "id": "-aH37wjEiQak",
        "outputId": "262a404c-9a93-43dc-b69a-b0262df77ebc"
      },
      "execution_count": 17,
      "outputs": [
        {
          "output_type": "stream",
          "name": "stdout",
          "text": [
            "[1, 4, 9, 16, 25]\n",
            "[1, 8, 27, 64, 125]\n",
            "0.0004608631134033203\n"
          ]
        }
      ]
    },
    {
      "cell_type": "code",
      "source": [
        "# USING MULTITHREADING\n",
        "import threading\n",
        "array = [1,2,3,4,5]\n",
        "res1, res2 = list(), list() # gloabal variables\n",
        "\n",
        "# creating multiple threads\n",
        "t1 = threading.Thread(target=f1, args=(array, res1))\n",
        "t2 = threading.Thread(target=f2, args=(array, res2))\n",
        "\n",
        "# init time\n",
        "t = time.time()\n",
        "\n",
        "# run the threads\n",
        "t1.start()\n",
        "t2.start()\n",
        "t1.join()\n",
        "t2.join()\n",
        "\n",
        "# result\n",
        "print(res1)\n",
        "print(res2)\n",
        "\n",
        "# time taken\n",
        "print(time.time()-t)"
      ],
      "metadata": {
        "colab": {
          "base_uri": "https://localhost:8080/",
          "height": 0
        },
        "id": "xGud1Cf9fpjG",
        "outputId": "cd24e4fc-19a0-4112-8f79-a88af47b6f63"
      },
      "execution_count": 18,
      "outputs": [
        {
          "output_type": "stream",
          "name": "stdout",
          "text": [
            "[1, 4, 9, 16, 25]\n",
            "[1, 8, 27, 64, 125]\n",
            "0.0015048980712890625\n"
          ]
        }
      ]
    },
    {
      "cell_type": "markdown",
      "source": [
        "# Multiprocessing"
      ],
      "metadata": {
        "id": "yF7xdaHph8DH"
      }
    },
    {
      "cell_type": "code",
      "source": [
        "import multiprocessing\n",
        "\n",
        "# global variables\n",
        "array = [1,2,3,4,5]\n",
        "res1, res2 = list(), list()\n",
        "\n",
        "# creating processes\n",
        "p1 = multiprocessing.Process(target=f1, args=(array,res1))\n",
        "p2 = multiprocessing.Process(target=f2, args=(array,res2))\n",
        "\n",
        "# init time\n",
        "t = time.time()\n",
        "\n",
        "# start processes\n",
        "p1.start()\n",
        "p2.start()\n",
        "p1.join()\n",
        "p2.join()\n",
        "\n",
        "# result\n",
        "print(res1)\n",
        "print(res2)\n",
        "\n",
        "# time taken\n",
        "print(time.time()-t)"
      ],
      "metadata": {
        "colab": {
          "base_uri": "https://localhost:8080/",
          "height": 0
        },
        "id": "nlaifonmhzwd",
        "outputId": "e47efa52-5d18-497e-dcd7-ff7861237256"
      },
      "execution_count": 19,
      "outputs": [
        {
          "output_type": "stream",
          "name": "stdout",
          "text": [
            "[]\n",
            "[]\n",
            "0.030361652374267578\n"
          ]
        }
      ]
    },
    {
      "cell_type": "markdown",
      "source": [
        "the reason `res1` and `res2` printing empty lists because, both multiprocessing variables `p1` and `p2` create its own virtual space in the memory. The updation only performed on the virtual space.\n"
      ],
      "metadata": {
        "id": "1nhprkz7kiQ0"
      }
    },
    {
      "cell_type": "markdown",
      "source": [
        "# Shared variables"
      ],
      "metadata": {
        "id": "S_SN2-yUmncA"
      }
    },
    {
      "cell_type": "code",
      "execution_count": 20,
      "metadata": {
        "id": "ZBq_y2Brl0Po"
      },
      "outputs": [],
      "source": [
        "# MODIFICATION ON RESULT VARIABLES NEEDED\n",
        "def f1(nums, res):\n",
        "    for idx, num in enumerate(nums):\n",
        "        res[idx] = num**2\n",
        "\n",
        "def f2(nums, res):\n",
        "    for idx, num in enumerate(nums):\n",
        "        res[idx] = num**3"
      ]
    },
    {
      "cell_type": "code",
      "source": [
        "import multiprocessing\n",
        "\n",
        "# global variables\n",
        "array = [1,2,3,4,5]\n",
        "\n",
        "# creating shared variables\n",
        "res1 = multiprocessing.Array('i', len(array))\n",
        "res2 = multiprocessing.Array('i', len(array))\n",
        "\n",
        "# creating processes\n",
        "p1 = multiprocessing.Process(target=f1, args=(array,res1))\n",
        "p2 = multiprocessing.Process(target=f2, args=(array,res2))\n",
        "\n",
        "# init time\n",
        "t = time.time()\n",
        "\n",
        "# start processes\n",
        "p1.start()\n",
        "p2.start()\n",
        "p1.join()\n",
        "p2.join()\n",
        "\n",
        "# result\n",
        "print(res1[:])\n",
        "print(res2[:])\n",
        "\n",
        "# time taken\n",
        "print(time.time()-t)"
      ],
      "metadata": {
        "colab": {
          "base_uri": "https://localhost:8080/",
          "height": 0
        },
        "id": "pyPRX_OFkcyO",
        "outputId": "3a377d3f-c4f2-49fa-9b41-76b8c24b7edf"
      },
      "execution_count": 21,
      "outputs": [
        {
          "output_type": "stream",
          "name": "stdout",
          "text": [
            "[1, 4, 9, 16, 25]\n",
            "[1, 8, 27, 64, 125]\n",
            "0.04663801193237305\n"
          ]
        }
      ]
    },
    {
      "cell_type": "markdown",
      "source": [
        "# Lock\n"
      ],
      "metadata": {
        "id": "64gH-u2bmsl2"
      }
    },
    {
      "cell_type": "code",
      "source": [
        "# banking functions\n",
        "\n",
        "def withdraw(mount, lock):\n",
        "    lock.acquire()\n",
        "    amount.value -= 1\n",
        "    lock.release()\n",
        "\n",
        "def deposite(amount, lock):\n",
        "    lock.acquire()\n",
        "    amount.value += 1\n",
        "    lock.release()"
      ],
      "metadata": {
        "id": "o1KmHmdvoYxw"
      },
      "execution_count": 36,
      "outputs": []
    },
    {
      "cell_type": "code",
      "source": [
        "import multiprocessing\n",
        "\n",
        "# variables\n",
        "amount = multiprocessing.Value('i', 200)\n",
        "lock = multiprocessing.Lock()   # mutex lock\n",
        "\n",
        "# creating processes\n",
        "p1 = multiprocessing.Process(target=withdraw, args=(amount,lock))\n",
        "p2 = multiprocessing.Process(target=deposite, args=(amount,lock))\n",
        "\n",
        "# execution\n",
        "p1.start()\n",
        "p2.start()\n",
        "p1.join()\n",
        "p2.join()\n",
        "\n",
        "# result\n",
        "print(amount.value)"
      ],
      "metadata": {
        "colab": {
          "base_uri": "https://localhost:8080/",
          "height": 0
        },
        "id": "cMxhv7Y2lWv0",
        "outputId": "5209c389-fede-4dc6-8fed-6dda8962f65e"
      },
      "execution_count": 38,
      "outputs": [
        {
          "output_type": "stream",
          "name": "stdout",
          "text": [
            "200\n"
          ]
        }
      ]
    },
    {
      "cell_type": "markdown",
      "source": [
        "# Pooling"
      ],
      "metadata": {
        "id": "MnMsNGzEm2UK"
      }
    },
    {
      "cell_type": "code",
      "source": [
        "def f(n):\n",
        "    res = 0\n",
        "    for i in range(n):\n",
        "        res += i\n",
        "    return res"
      ],
      "metadata": {
        "id": "b17y9H4hsUyB"
      },
      "execution_count": 42,
      "outputs": []
    },
    {
      "cell_type": "code",
      "source": [
        "import multiprocessing\n",
        "import random\n",
        "\n",
        "p = multiprocessing.Pool(processes=2)\n",
        "\n",
        "res = p.map(f, [1,2,3,4,5])\n",
        "p.close()\n",
        "p.join()\n",
        "\n",
        "print(res)"
      ],
      "metadata": {
        "colab": {
          "base_uri": "https://localhost:8080/",
          "height": 0
        },
        "id": "rHLiqkr2m3m9",
        "outputId": "a29b48dc-c9c9-4f42-ef6d-31b8663c51ef"
      },
      "execution_count": 47,
      "outputs": [
        {
          "output_type": "stream",
          "name": "stdout",
          "text": [
            "[0, 1, 3, 6, 10]\n"
          ]
        }
      ]
    }
  ]
}