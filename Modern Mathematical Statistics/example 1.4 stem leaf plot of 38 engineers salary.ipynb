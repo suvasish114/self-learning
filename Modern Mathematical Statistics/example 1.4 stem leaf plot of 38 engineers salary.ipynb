{
  "nbformat": 4,
  "nbformat_minor": 0,
  "metadata": {
    "colab": {
      "provenance": [],
      "authorship_tag": "ABX9TyNk4MdRwm3qAQVUXG4zsCCJ"
    },
    "kernelspec": {
      "name": "python3",
      "display_name": "Python 3"
    },
    "language_info": {
      "name": "python"
    }
  },
  "cells": [
    {
      "cell_type": "code",
      "execution_count": 7,
      "metadata": {
        "id": "Mfc_vDPiF_E-"
      },
      "outputs": [],
      "source": [
        "# libraries\n",
        "import matplotlib.pyplot as plt\n",
        "from collections import defaultdict"
      ]
    },
    {
      "cell_type": "markdown",
      "source": [
        "## Problem Statement"
      ],
      "metadata": {
        "id": "0-bUJ_dQKERn"
      }
    },
    {
      "cell_type": "markdown",
      "source": [
        "Job prospects for students majoring in an engineering discipline continue to be very robust. How much can a new engineering graduate expect to earn? Here are the starting salaries for a sample of 38 civil engineers from one author’s home institution (Spring 2016), courtesy of the university’s Graduate Status Report:"
      ],
      "metadata": {
        "id": "66Eg1647GKrP"
      }
    },
    {
      "cell_type": "code",
      "source": [
        "with open(\"data.txt\", \"r\") as file:\n",
        "    sample = list(map(int, file.read().split(\"\\n\")))"
      ],
      "metadata": {
        "id": "ufVHlYq7HRI9"
      },
      "execution_count": 8,
      "outputs": []
    },
    {
      "cell_type": "code",
      "source": [
        "sample"
      ],
      "metadata": {
        "colab": {
          "base_uri": "https://localhost:8080/"
        },
        "id": "qeOKKT3FHkzs",
        "outputId": "50b23c1a-0bc0-4c92-9929-5c8878e98fd3"
      },
      "execution_count": 9,
      "outputs": [
        {
          "output_type": "execute_result",
          "data": {
            "text/plain": [
              "[58000,\n",
              " 65000,\n",
              " 55000,\n",
              " 55000,\n",
              " 62000,\n",
              " 60000,\n",
              " 63000,\n",
              " 52000,\n",
              " 56160,\n",
              " 61000,\n",
              " 60000,\n",
              " 70000,\n",
              " 67000,\n",
              " 80000,\n",
              " 70000,\n",
              " 80000,\n",
              " 66560,\n",
              " 62500,\n",
              " 68640,\n",
              " 60320,\n",
              " 58240,\n",
              " 75000,\n",
              " 72000,\n",
              " 65000,\n",
              " 60000,\n",
              " 60000,\n",
              " 83000,\n",
              " 70000,\n",
              " 61000,\n",
              " 68000,\n",
              " 50128,\n",
              " 65000,\n",
              " 70000,\n",
              " 57600,\n",
              " 56000,\n",
              " 61000,\n",
              " 65000,\n",
              " 63000]"
            ]
          },
          "metadata": {},
          "execution_count": 9
        }
      ]
    },
    {
      "cell_type": "code",
      "source": [
        "# creating stem leaf plot using defaultdict\n",
        "stemleaf = defaultdict(list)\n",
        "for a in sample:\n",
        "    stemleaf[a//10000].append((a//1000)%10)"
      ],
      "metadata": {
        "id": "ad4t378kHltx"
      },
      "execution_count": 12,
      "outputs": []
    },
    {
      "cell_type": "code",
      "source": [
        "stemleaf"
      ],
      "metadata": {
        "colab": {
          "base_uri": "https://localhost:8080/"
        },
        "id": "z47xhnrsJhWd",
        "outputId": "7e22bbc6-562a-4334-f1d0-4fb0fa744c86"
      },
      "execution_count": 13,
      "outputs": [
        {
          "output_type": "execute_result",
          "data": {
            "text/plain": [
              "defaultdict(list,\n",
              "            {5: [8, 5, 5, 2, 6, 8, 0, 7, 6],\n",
              "             6: [5, 2, 0, 3, 1, 0, 7, 6, 2, 8, 0, 5, 0, 0, 1, 8, 5, 1, 5, 3],\n",
              "             7: [0, 0, 5, 2, 0, 0],\n",
              "             8: [0, 0, 3]})"
            ]
          },
          "metadata": {},
          "execution_count": 13
        }
      ]
    },
    {
      "cell_type": "markdown",
      "source": [
        "here `stem` column showing the MSB of the digit and `leaf` column showing all the digits next to MSB"
      ],
      "metadata": {
        "id": "54pM8SXuJyVH"
      }
    }
  ]
}