{
  "nbformat": 4,
  "nbformat_minor": 0,
  "metadata": {
    "colab": {
      "provenance": [],
      "authorship_tag": "ABX9TyMPJ9471FS88QTOlEf+UTmr"
    },
    "kernelspec": {
      "name": "python3",
      "display_name": "Python 3"
    },
    "language_info": {
      "name": "python"
    }
  },
  "cells": [
    {
      "cell_type": "code",
      "source": [
        "# libraries\n",
        "import matplotlib.pyplot as plt"
      ],
      "metadata": {
        "id": "2VXn7apA-482"
      },
      "execution_count": 38,
      "outputs": []
    },
    {
      "cell_type": "markdown",
      "source": [
        "## Problem Statement\n",
        "\n",
        "Charity is a big business in the USA. The website charitynavigator.com gives information on roughly 5500 charitable organizations, and there are many smaller charities that fly below the navigator’s radar. Some charities operate very efﬁciently, with fundraising and administrative expenses that are only a small percentage of total expenses, whereas others spend a high percentage of what they take in on such activities. Here is data on fundraising expenses, as a percentage of total expenditures, for a random sample of 60 charities are given"
      ],
      "metadata": {
        "id": "myctvGxU8Pzc"
      }
    },
    {
      "cell_type": "code",
      "execution_count": 26,
      "metadata": {
        "id": "FFIbI9tJ8Olh"
      },
      "outputs": [],
      "source": [
        "sample = list()\n",
        "with open(\"data.txt\", \"r\") as file:\n",
        "    sample.extend(map(float, file.read().split(\"\\n\")[:-1]))"
      ]
    },
    {
      "cell_type": "code",
      "source": [
        "print(f\"total data samples: {len(sample)}\")"
      ],
      "metadata": {
        "colab": {
          "base_uri": "https://localhost:8080/"
        },
        "id": "jCFeQRyO8_W1",
        "outputId": "e815d3bf-852e-4f48-e388-4edd2257e47a"
      },
      "execution_count": 29,
      "outputs": [
        {
          "output_type": "stream",
          "name": "stdout",
          "text": [
            "total data samples: 60\n"
          ]
        }
      ]
    },
    {
      "cell_type": "code",
      "source": [
        "# showing histogram of samples\n",
        "plt.xlabel(\"Percentage of total expenses\")\n",
        "plt.ylabel(\"Frequency\")\n",
        "plt.hist(sample)\n",
        "plt.show()"
      ],
      "metadata": {
        "colab": {
          "base_uri": "https://localhost:8080/",
          "height": 449
        },
        "id": "scRfa1N5-m8R",
        "outputId": "f44c1067-0a6d-4ced-b3ec-b636c95f8017"
      },
      "execution_count": 36,
      "outputs": [
        {
          "output_type": "display_data",
          "data": {
            "text/plain": [
              "<Figure size 640x480 with 1 Axes>"
            ],
            "image/png": "[encoded data removed]"
          },
          "metadata": {}
        }
      ]
    },
    {
      "cell_type": "markdown",
      "source": [
        "## Observation\n",
        "\n",
        "Of the 60 charities, 36 use\n",
        "less than 10% on fundraising, and 18 use between 10% and 20%. Thus 54 out of the 60 charities in the sample, or 90%, spend less than 20% of money collected on fundraising."
      ],
      "metadata": {
        "id": "b0UQQYV0_5Gd"
      }
    }
  ]
}